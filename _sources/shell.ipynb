{
 "cells": [
  {
   "attachments": {},
   "cell_type": "markdown",
   "metadata": {},
   "source": [
    "\n",
    "<img align=\"right\" src=\"https://raw.githubusercontent.com/github/explore/aca0b3b69ca680013b925338b0cc428190aa42dc/topics/cli/cli.png\">\n",
    "\n",
    "# Shell\n",
    "\n",
    "Shell is a program that takes commands from the keyboard and gives them to the operating system to perform. \n",
    "\n",
    "## 0. Preliminaries\n",
    "\n",
    "### 0.1. File Structure \n",
    "\n",
    "File structure is a way of organizing files and directories in a computer. Most operating systems use a hierarchical file system. \n",
    "\n",
    "<center>\n",
    "<img src=\"https://qph.cf2.quoracdn.net/main-qimg-cd17398a5fe73d3537af64952d78608a\">\n",
    "</center>"
   ]
  },
  {
   "attachments": {},
   "cell_type": "markdown",
   "metadata": {},
   "source": [
    "### 0.2. File Path\n",
    "\n",
    "File path is the location of a file or folder in a directory structure. An example of a file is `C:\\Users\\Documents\\file.txt`.\n",
    "\n",
    "```{note}\n",
    "\n",
    "Note that Unix based systems (e.g. MacOS, Linux etc.) use `/` whereas Windows uses `\\` as the path separator.\n",
    "\n",
    "```\n",
    "\n",
    "The file path is made up of the drive name (e.g. `C:\\`), the folders (e.g. `Users\\`), and the file name (e.g. `Documents\\file.txt`).\n",
    "\n",
    "\n",
    "\n",
    "<center>\n",
    "<img align=\"center\" src=\"https://9infotech.weebly.com/uploads/1/7/5/2/17521169/sample-file-path_orig.png\">\n",
    "</center>"
   ]
  },
  {
   "attachments": {},
   "cell_type": "markdown",
   "metadata": {},
   "source": [
    "\n",
    "## 1. Launch Command Line Interface\n",
    "\n",
    "````{tab-set}\n",
    "```{tab-item} Mac\n",
    "1. Press `Command` + `Space` to open Spotlight Search.\n",
    "2. Type `terminal` and press `Enter`.\n",
    "\n",
    "<img width=\"60%\" src=\"assets/terminal.png\">\n",
    "\n",
    "```\n",
    "\n",
    "```{tab-item} Windows\n",
    "1. Press `Win` + `R` to open the Run dialog box.\n",
    "2. Type `cmd` and press `Enter`.\n",
    "\n",
    "<img width=\"60%\" src=\"assets/commandprompt.png\">\n",
    "```\n",
    "````"
   ]
  },
  {
   "attachments": {},
   "cell_type": "markdown",
   "metadata": {},
   "source": [
    "\n",
    "\n",
    "## 2. Where Am I? \n",
    "\n",
    "````{tab-set}\n",
    "```{tab-item} Mac\n",
    "`pwd` command is used to print the current working directory.\n",
    "```\n",
    "\n",
    "```{tab-item} Windows\n",
    "\n",
    "`cd` command, without any parameters, is used to print the current working directory.\n",
    "\n",
    "```\n",
    "````\n"
   ]
  },
  {
   "attachments": {},
   "cell_type": "markdown",
   "metadata": {},
   "source": [
    "## 3. What's in Here?\n",
    "\n",
    "````{tab-set}\n",
    "```{tab-item} Mac\n",
    "\n",
    "`ls [OPTION]... [FILE]...`\n",
    "\n",
    "`ls` command is used to **list** the files and directories in the current working directory.  \n",
    "\n",
    "`ls -lt` command is used to **list** the files and directories in the current working directory in **long listing format** and **sorted by time modified**.\n",
    "\n",
    "```\n",
    "\n",
    "```{tab-item} Windows\n",
    "\n",
    "`dir` command is used to **list** the files and directories in the current working directory.\n",
    "\n",
    "```\n",
    "````"
   ]
  },
  {
   "attachments": {},
   "cell_type": "markdown",
   "metadata": {},
   "source": [
    "## 4. Let's Go! \n",
    "\n",
    "The following can be used to jump to locations: `cd <location you want to move to>` (Change Directory)\n",
    "\n",
    "Some common shortcuts:\n",
    "\n",
    "* `~`: Home Directory\n",
    "* `.`: Current Directory\n",
    "* `..`: Parent Directory\n",
    "* `/`: Root Directory\n",
    "\n",
    "\n",
    "## 5. Let's create a folder\n",
    "\n",
    "A folder can be created using `mkdir <folder name>` \n"
   ]
  }
 ],
 "metadata": {
  "kernelspec": {
   "display_name": "Python 3",
   "language": "python",
   "name": "python3"
  },
  "language_info": {
   "codemirror_mode": {
    "name": "ipython",
    "version": 3
   },
   "file_extension": ".py",
   "mimetype": "text/x-python",
   "name": "python",
   "nbconvert_exporter": "python",
   "pygments_lexer": "ipython3",
   "version": "3.8.0"
  },
  "widgets": {
   "application/vnd.jupyter.widget-state+json": {
    "state": {},
    "version_major": 2,
    "version_minor": 0
   }
  }
 },
 "nbformat": 4,
 "nbformat_minor": 4
}
