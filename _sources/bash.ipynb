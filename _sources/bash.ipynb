{
 "cells": [
  {
   "attachments": {},
   "cell_type": "markdown",
   "metadata": {},
   "source": [
    "# Shell\n",
    "\n",
    "Shell is a program that takes commands from the keyboard and gives them to the operating system to perform. \n",
    "\n",
    "## `ls`: List Directory Contents\n",
    "\n",
    "### `-l` : Long listing format\n",
    "\n",
    "### `-a` : Include directory entries whose names begin with a dot (.).\n",
    "\n",
    "### `-t` : Sort by time modified (most recently modified first) before sorting the operands by lexicographical order.\n",
    "\n",
    "## `cd`: Change Directory\n",
    "\n",
    "### `~`: Home Directory\n",
    "\n",
    "### `..`: Back up one directory\n",
    "\n",
    "## `pwd`: Print Working Directory\n",
    "\n",
    "## `which`: Locate a program file in the user's path\n",
    "\n",
    "## `nano`: Text editor\n",
    "\n"
   ]
  }
 ],
 "metadata": {
  "kernelspec": {
   "display_name": "Python 3",
   "language": "python",
   "name": "python3"
  },
  "language_info": {
   "codemirror_mode": {
    "name": "ipython",
    "version": 3
   },
   "file_extension": ".py",
   "mimetype": "text/x-python",
   "name": "python",
   "nbconvert_exporter": "python",
   "pygments_lexer": "ipython3",
   "version": "3.8.0"
  },
  "widgets": {
   "application/vnd.jupyter.widget-state+json": {
    "state": {},
    "version_major": 2,
    "version_minor": 0
   }
  }
 },
 "nbformat": 4,
 "nbformat_minor": 4
}
